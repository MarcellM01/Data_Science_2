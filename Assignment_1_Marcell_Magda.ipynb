{
 "cells": [
  {
   "cell_type": "markdown",
   "id": "56e0e882-a656-4be3-afe1-f313714990eb",
   "metadata": {
    "tags": []
   },
   "source": [
    "### **Course:** Machine Learning 2\n",
    "### **Author:** Marcell Magda\n",
    "\n",
    "### **Assigment Name:** Assignment 1\n",
    "\n",
    "### **Task Description (Short):**\n",
    "\n",
    "In this exercise you will predict property prices in New Taipei City, Taiwan using this dataset.\n",
    "Let’s say you want to build a simple web app where potential buyersand sellers could rate their homes, \n",
    "and the provided dataset contains the data you have collected."
   ]
  },
  {
   "cell_type": "markdown",
   "id": "bd86db35-84ba-468b-970c-6ed46445fffc",
   "metadata": {},
   "source": [
    "## 0. Import Libraries"
   ]
  },
  {
   "cell_type": "code",
   "execution_count": 1,
   "id": "34b47c29-fc85-42e9-8b04-812a08da1e16",
   "metadata": {},
   "outputs": [],
   "source": [
    "import pandas as pd\n",
    "import numpy as np\n",
    "from sklearn.model_selection import train_test_split\n",
    "from sklearn.preprocessing import StandardScaler, PolynomialFeatures\n",
    "from sklearn.pipeline import Pipeline, make_pipeline\n",
    "from sklearn.linear_model import LinearRegression\n",
    "from sklearn.metrics import mean_squared_error\n",
    "from sklearn.ensemble import RandomForestRegressor\n",
    "from sklearn.model_selection import GridSearchCV\n",
    "from sklearn.ensemble import GradientBoostingRegressor\n",
    "from xgboost import XGBRegressor\n",
    "from sklearn.model_selection import GridSearchCV\n",
    "\n",
    "import matplotlib.pyplot as plt\n",
    "import seaborn as sns\n",
    "\n",
    "import warnings\n",
    "warnings.filterwarnings('ignore')"
   ]
  },
  {
   "cell_type": "markdown",
   "id": "f5a45a7c-a0a0-481b-b4c9-d1c2fc5baaa6",
   "metadata": {},
   "source": [
    "## 1. Handling data for regression"
   ]
  },
  {
   "cell_type": "code",
   "execution_count": 2,
   "id": "935651f2-ed84-4c99-9d44-19cf359a894c",
   "metadata": {
    "tags": []
   },
   "outputs": [
    {
     "data": {
      "text/html": [
       "<div>\n",
       "<style scoped>\n",
       "    .dataframe tbody tr th:only-of-type {\n",
       "        vertical-align: middle;\n",
       "    }\n",
       "\n",
       "    .dataframe tbody tr th {\n",
       "        vertical-align: top;\n",
       "    }\n",
       "\n",
       "    .dataframe thead th {\n",
       "        text-align: right;\n",
       "    }\n",
       "</style>\n",
       "<table border=\"1\" class=\"dataframe\">\n",
       "  <thead>\n",
       "    <tr style=\"text-align: right;\">\n",
       "      <th></th>\n",
       "      <th>id</th>\n",
       "      <th>transaction_date</th>\n",
       "      <th>house_age</th>\n",
       "      <th>distance_to_the_nearest_MRT_station</th>\n",
       "      <th>number_of_convenience_stores</th>\n",
       "      <th>latitude</th>\n",
       "      <th>longitude</th>\n",
       "      <th>house_price_of_unit_area</th>\n",
       "    </tr>\n",
       "  </thead>\n",
       "  <tbody>\n",
       "    <tr>\n",
       "      <th>0</th>\n",
       "      <td>1</td>\n",
       "      <td>2012.917</td>\n",
       "      <td>32.0</td>\n",
       "      <td>84.87882</td>\n",
       "      <td>10</td>\n",
       "      <td>24.98298</td>\n",
       "      <td>121.54024</td>\n",
       "      <td>37.9</td>\n",
       "    </tr>\n",
       "    <tr>\n",
       "      <th>1</th>\n",
       "      <td>2</td>\n",
       "      <td>2012.917</td>\n",
       "      <td>19.5</td>\n",
       "      <td>306.59470</td>\n",
       "      <td>9</td>\n",
       "      <td>24.98034</td>\n",
       "      <td>121.53951</td>\n",
       "      <td>42.2</td>\n",
       "    </tr>\n",
       "    <tr>\n",
       "      <th>2</th>\n",
       "      <td>3</td>\n",
       "      <td>2013.583</td>\n",
       "      <td>13.3</td>\n",
       "      <td>561.98450</td>\n",
       "      <td>5</td>\n",
       "      <td>24.98746</td>\n",
       "      <td>121.54391</td>\n",
       "      <td>47.3</td>\n",
       "    </tr>\n",
       "    <tr>\n",
       "      <th>3</th>\n",
       "      <td>4</td>\n",
       "      <td>2013.500</td>\n",
       "      <td>13.3</td>\n",
       "      <td>561.98450</td>\n",
       "      <td>5</td>\n",
       "      <td>24.98746</td>\n",
       "      <td>121.54391</td>\n",
       "      <td>54.8</td>\n",
       "    </tr>\n",
       "    <tr>\n",
       "      <th>4</th>\n",
       "      <td>5</td>\n",
       "      <td>2012.833</td>\n",
       "      <td>5.0</td>\n",
       "      <td>390.56840</td>\n",
       "      <td>5</td>\n",
       "      <td>24.97937</td>\n",
       "      <td>121.54245</td>\n",
       "      <td>43.1</td>\n",
       "    </tr>\n",
       "  </tbody>\n",
       "</table>\n",
       "</div>"
      ],
      "text/plain": [
       "   id  transaction_date  house_age  distance_to_the_nearest_MRT_station  \\\n",
       "0   1          2012.917       32.0                             84.87882   \n",
       "1   2          2012.917       19.5                            306.59470   \n",
       "2   3          2013.583       13.3                            561.98450   \n",
       "3   4          2013.500       13.3                            561.98450   \n",
       "4   5          2012.833        5.0                            390.56840   \n",
       "\n",
       "   number_of_convenience_stores  latitude  longitude  house_price_of_unit_area  \n",
       "0                            10  24.98298  121.54024                      37.9  \n",
       "1                             9  24.98034  121.53951                      42.2  \n",
       "2                             5  24.98746  121.54391                      47.3  \n",
       "3                             5  24.98746  121.54391                      54.8  \n",
       "4                             5  24.97937  121.54245                      43.1  "
      ]
     },
     "execution_count": 2,
     "metadata": {},
     "output_type": "execute_result"
    }
   ],
   "source": [
    "# Setting a seed for reproducibility\n",
    "prng = np.random.RandomState(20240311)\n",
    "real_estate_data = pd.read_csv(\"https://raw.githubusercontent.com/MarcellM01/Data_Science_2/main/real_estate.csv\")\n",
    "\n",
    "real_estate_data.head()"
   ]
  },
  {
   "cell_type": "code",
   "execution_count": 3,
   "id": "443901b0-bd21-4936-a9f2-c1cf3a10f8b9",
   "metadata": {
    "tags": []
   },
   "outputs": [
    {
     "name": "stdout",
     "output_type": "stream",
     "text": [
      "Size of the training set: (58, 6), size of the test set: (25, 6)\n"
     ]
    }
   ],
   "source": [
    "# Dropping the id column\n",
    "real_estate_data.drop(columns=['id'], inplace=True)\n",
    "\n",
    "# Creating a randomly selected 20% sample of the data\n",
    "real_estate_sample = real_estate_data.sample(frac=0.2, random_state=prng)\n",
    "\n",
    "outcome = real_estate_sample[\"house_price_of_unit_area\"]\n",
    "features = real_estate_sample.drop(columns=[\"house_price_of_unit_area\"])\n",
    "\n",
    "# Splitting the data\n",
    "X_train, X_test, y_train, y_test = train_test_split(features, outcome, test_size=0.3, random_state=prng)\n",
    "\n",
    "print(f\"Size of the training set: {X_train.shape}, size of the test set: {X_test.shape}\")"
   ]
  },
  {
   "cell_type": "code",
   "execution_count": 4,
   "id": "12f09b44-0661-4d2f-9a29-8b9f1d98d736",
   "metadata": {
    "tags": []
   },
   "outputs": [],
   "source": [
    "results = []\n",
    "\n",
    "results_df = pd.DataFrame(results, columns=[\"Model\", \"Train RMSLE\", \"Test RMSLE\"])"
   ]
  },
  {
   "cell_type": "markdown",
   "id": "410ab4f0-6af1-410b-a58f-a1fc0b90e11d",
   "metadata": {},
   "source": [
    "## 2. EDA"
   ]
  },
  {
   "cell_type": "markdown",
   "id": "71072540-7a47-41fa-991c-feb77f9861ef",
   "metadata": {},
   "source": [
    "### 2.1 Distribution of House Prices"
   ]
  },
  {
   "cell_type": "code",
   "execution_count": 5,
   "id": "05e23b23-1436-4f92-adbb-b8d353d6ed35",
   "metadata": {
    "tags": []
   },
   "outputs": [
    {
     "data": {
      "image/png": "[encoded data removed]",
      "text/plain": [
       "<Figure size 1000x600 with 1 Axes>"
      ]
     },
     "metadata": {},
     "output_type": "display_data"
    }
   ],
   "source": [
    "plt.figure(figsize=(10, 6))\n",
    "sns.histplot(real_estate_data['house_price_of_unit_area'], bins=10, kde=True)\n",
    "plt.title('Distribution of House Prices')\n",
    "plt.xlabel('House Price of Unit Area')\n",
    "plt.ylabel('Frequency')\n",
    "plt.show()"
   ]
  },
  {
   "cell_type": "markdown",
   "id": "a5b0d9bd-4864-4a15-9566-cf789b0ba2eb",
   "metadata": {},
   "source": [
    "### 2.2 Relationship between House Age and Price"
   ]
  },
  {
   "cell_type": "code",
   "execution_count": 6,
   "id": "226c53c6-79f7-4ec2-b29f-51c7f0df1851",
   "metadata": {
    "tags": []
   },
   "outputs": [
    {
     "data": {
      "image/png": "[encoded data removed]",
      "text/plain": [
       "<Figure size 1000x600 with 1 Axes>"
      ]
     },
     "metadata": {},
     "output_type": "display_data"
    }
   ],
   "source": [
    "plt.figure(figsize=(10, 6))\n",
    "sns.scatterplot(x='house_age', y='house_price_of_unit_area', data=real_estate_data)\n",
    "plt.title('House Age vs. Price')\n",
    "plt.xlabel('House Age')\n",
    "plt.ylabel('House Price of Unit Area')\n",
    "plt.show()"
   ]
  },
  {
   "cell_type": "markdown",
   "id": "6e5a0d0d-1bf4-4ac4-96f2-235e97181882",
   "metadata": {
    "tags": []
   },
   "source": [
    "### 2.3 Number of Convenience Stores vs. House Price"
   ]
  },
  {
   "cell_type": "code",
   "execution_count": 7,
   "id": "67600376-132f-448d-bea4-ebcb6e5ebcb9",
   "metadata": {
    "tags": []
   },
   "outputs": [
    {
     "data": {
      "image/png": "[encoded data removed]",
      "text/plain": [
       "<Figure size 1000x600 with 1 Axes>"
      ]
     },
     "metadata": {},
     "output_type": "display_data"
    }
   ],
   "source": [
    "plt.figure(figsize=(10, 6))\n",
    "sns.barplot(x='number_of_convenience_stores', y='house_price_of_unit_area', data=real_estate_data, ci=None)\n",
    "plt.title('Number of Convenience Stores vs. House Price')\n",
    "plt.xlabel('Number of Convenience Stores')\n",
    "plt.ylabel('Average House Price of Unit Area')\n",
    "plt.show()"
   ]
  },
  {
   "cell_type": "markdown",
   "id": "18fd6567-471a-4f5e-ad70-ae440c2446ca",
   "metadata": {},
   "source": [
    "## -- LOSS FUNCTION AND BUSINESS RISK - TEXTUAL --"
   ]
  },
  {
   "cell_type": "markdown",
   "id": "5d7c3b24-4d69-4831-bc38-6c3830308449",
   "metadata": {
    "tags": []
   },
   "source": [
    "In the context of predicting property prices, the Root Mean Squared Logarithmic Error (RMSLE) has been chosen as the loss function to evaluate the predictive models. This choice is particularly appropriate for real estate price prediction for several reasons:\n",
    "\n",
    "1. **Magnitude-Awareness**: RMSLE penalizes underestimates more than overestimates. This characteristic is crucial in real estate because underestimating property prices could lead to undervaluing properties, resulting in lost revenue opportunities. On the other hand, overestimating could lead to properties sitting on the market for longer than necessary, which also has cost implications but is generally less detrimental than selling below value.\n",
    "\n",
    "2. **Logarithmic Transformation**: By taking the logarithm of the predictions and actual values, RMSLE reduces the scale of the errors. This transformation is beneficial when dealing with a wide range of property prices, ensuring that the model's performance isn't disproportionately affected by the scale of the property value. It makes the loss function more robust to outliers, which are common in real estate prices due to the unique characteristics of some properties.\n",
    "\n",
    "### Business Risks from Wrong Predictions\n",
    "\n",
    "From a business perspective, choosing RMSLE as a loss function and the consequent risk of making wrong predictions can have several implications:\n",
    "\n",
    "1. **Underestimation Risks**: Consistently underestimating property prices can lead to setting prices too low, which might increase sales volume but decrease overall profit margins. This could potentially damage the brand's market positioning, making it harder to command higher prices for premium properties in the future.\n",
    "\n",
    "2. **Overestimation Risks**: Overestimating property prices might result in properties remaining unsold for extended periods, increasing holding costs and potentially missing market opportunities. This situation could force price reductions, which may harm the perceived value of the properties and the reputation of the seller or real estate agency.\n",
    "\n",
    "3. **Investment Decision Risks**: Investors relying on the model for purchasing decisions might find their return on investment (ROI) significantly impacted by inaccurate price predictions. Underestimations could lead to missed opportunities, while overestimations might result in investments that do not yield the expected returns.\n",
    "\n",
    "4. **Trust and Reliability**: Inaccuracy in predictions, whether it's consistent over or underestimation, can erode trust among users of the predictive model. For a web application aimed at potential buyers and sellers to rate their homes, maintaining high reliability and accuracy is crucial for user retention and trust.\n",
    "\n",
    "To mitigate these risks, continuous model evaluation and refinement are necessary. It's also beneficial to combine model predictions with expert real estate analysis, especially for properties that are outliers or possess unique characteristics not fully captured by the model. This blended approach can help balance the quantitative insights from the model with qualitative assessments from experienced professionals, potentially reducing the business risks associated with wrong predictions.\n"
   ]
  },
  {
   "cell_type": "markdown",
   "id": "c5744bb3-4472-496c-8620-35b8425a096f",
   "metadata": {},
   "source": [
    "## 3. Benchmark Model"
   ]
  },
  {
   "cell_type": "code",
   "execution_count": 8,
   "id": "c6871325-4142-4b34-9c58-52a9d30e68bb",
   "metadata": {},
   "outputs": [],
   "source": [
    "# Function to calculate RMSLE\n",
    "def calculateRMSLE(prediction, y_obs):\n",
    "    prediction = np.where(prediction < 0, 0, prediction)\n",
    "    y_obs = np.where(y_obs < 0, 0, y_obs)\n",
    "    log_pred = np.log1p(prediction)\n",
    "    log_obs = np.log1p(y_obs)\n",
    "    squared_diff = (log_pred - log_obs) ** 2\n",
    "    mean_squared_diff = np.mean(squared_diff)\n",
    "    rmsle = np.sqrt(mean_squared_diff)\n",
    "    return rmsle"
   ]
  },
  {
   "cell_type": "code",
   "execution_count": 9,
   "id": "a11878b0-4b5b-4706-9b71-9bb7d3e0612c",
   "metadata": {
    "tags": []
   },
   "outputs": [],
   "source": [
    "# Create an array of benchmark predictions\n",
    "benchmark_prediction = np.full(shape=y_train.shape, fill_value=np.mean(y_train))\n",
    "\n",
    "# Evaluate benchmark model on training set\n",
    "benchmark_result_train = calculateRMSLE(benchmark_prediction, y_train)\n",
    "\n",
    "# For the test set, use the mean of y_train as a constant prediction\n",
    "benchmark_prediction_test = np.full(shape=y_test.shape, fill_value=np.mean(y_train))\n",
    "benchmark_result_test = calculateRMSLE(benchmark_prediction_test, y_test)"
   ]
  },
  {
   "cell_type": "code",
   "execution_count": 10,
   "id": "2c990797-32b8-420e-b86f-c8817f0b9964",
   "metadata": {
    "tags": []
   },
   "outputs": [
    {
     "data": {
      "text/html": [
       "<div>\n",
       "<style scoped>\n",
       "    .dataframe tbody tr th:only-of-type {\n",
       "        vertical-align: middle;\n",
       "    }\n",
       "\n",
       "    .dataframe tbody tr th {\n",
       "        vertical-align: top;\n",
       "    }\n",
       "\n",
       "    .dataframe thead th {\n",
       "        text-align: right;\n",
       "    }\n",
       "</style>\n",
       "<table border=\"1\" class=\"dataframe\">\n",
       "  <thead>\n",
       "    <tr style=\"text-align: right;\">\n",
       "      <th></th>\n",
       "      <th>Model</th>\n",
       "      <th>Train RMSLE</th>\n",
       "      <th>Test RMSLE</th>\n",
       "    </tr>\n",
       "  </thead>\n",
       "  <tbody>\n",
       "    <tr>\n",
       "      <th>0</th>\n",
       "      <td>Benchmark</td>\n",
       "      <td>0.379786</td>\n",
       "      <td>0.419991</td>\n",
       "    </tr>\n",
       "  </tbody>\n",
       "</table>\n",
       "</div>"
      ],
      "text/plain": [
       "       Model  Train RMSLE  Test RMSLE\n",
       "0  Benchmark     0.379786    0.419991"
      ]
     },
     "execution_count": 10,
     "metadata": {},
     "output_type": "execute_result"
    }
   ],
   "source": [
    "new_row_df = pd.DataFrame([[\"Benchmark\", benchmark_result_train, benchmark_result_test]], columns=results_df.columns)\n",
    "results_df = results_df._append(new_row_df, ignore_index=True)\n",
    "\n",
    "results_df"
   ]
  },
  {
   "cell_type": "markdown",
   "id": "2f605cce-90e8-4218-921e-4c92f8593259",
   "metadata": {},
   "source": [
    "**Description:** The benchmark model, which predicts the mean house price, provides a baseline performance with a training RMSLE of 0.379786 and a test RMSLE of 0.419991. This simple model is crucial for comparison, ensuring that more complex models significantly improve upon this baseline to justify their complexity."
   ]
  },
  {
   "cell_type": "markdown",
   "id": "55a1d9df-3c9e-4745-b88f-43830ef2a2a8",
   "metadata": {},
   "source": [
    "## 4. Simple Linear Regression Model"
   ]
  },
  {
   "cell_type": "code",
   "execution_count": 11,
   "id": "6acf92ee-095f-4b16-bcd1-011b58bd0615",
   "metadata": {
    "tags": []
   },
   "outputs": [],
   "source": [
    "# Assuming 'distance_to_the_nearest_MRT_station' is a key feature\n",
    "simple_model = LinearRegression()\n",
    "simple_model.fit(X_train[['distance_to_the_nearest_MRT_station']], y_train)\n",
    "y_pred_simple = simple_model.predict(X_test[['distance_to_the_nearest_MRT_station']])\n",
    "\n",
    "# Calculate RMSLE for the simple model\n",
    "rmsle_simple_train = calculateRMSLE(simple_model.predict(X_train[['distance_to_the_nearest_MRT_station']]), y_train)\n",
    "rmsle_simple_test = calculateRMSLE(y_pred_simple, y_test)"
   ]
  },
  {
   "cell_type": "code",
   "execution_count": 12,
   "id": "3ef64a4c-7c7b-4b4b-ab93-df651ed6b85e",
   "metadata": {
    "tags": []
   },
   "outputs": [
    {
     "data": {
      "text/html": [
       "<div>\n",
       "<style scoped>\n",
       "    .dataframe tbody tr th:only-of-type {\n",
       "        vertical-align: middle;\n",
       "    }\n",
       "\n",
       "    .dataframe tbody tr th {\n",
       "        vertical-align: top;\n",
       "    }\n",
       "\n",
       "    .dataframe thead th {\n",
       "        text-align: right;\n",
       "    }\n",
       "</style>\n",
       "<table border=\"1\" class=\"dataframe\">\n",
       "  <thead>\n",
       "    <tr style=\"text-align: right;\">\n",
       "      <th></th>\n",
       "      <th>Model</th>\n",
       "      <th>Train RMSLE</th>\n",
       "      <th>Test RMSLE</th>\n",
       "    </tr>\n",
       "  </thead>\n",
       "  <tbody>\n",
       "    <tr>\n",
       "      <th>0</th>\n",
       "      <td>Benchmark</td>\n",
       "      <td>0.379786</td>\n",
       "      <td>0.419991</td>\n",
       "    </tr>\n",
       "    <tr>\n",
       "      <th>1</th>\n",
       "      <td>Simple Linear</td>\n",
       "      <td>0.293938</td>\n",
       "      <td>0.400638</td>\n",
       "    </tr>\n",
       "  </tbody>\n",
       "</table>\n",
       "</div>"
      ],
      "text/plain": [
       "           Model  Train RMSLE  Test RMSLE\n",
       "0      Benchmark     0.379786    0.419991\n",
       "1  Simple Linear     0.293938    0.400638"
      ]
     },
     "execution_count": 12,
     "metadata": {},
     "output_type": "execute_result"
    }
   ],
   "source": [
    "new_row_df = pd.DataFrame([[\"Simple Linear\", rmsle_simple_train, rmsle_simple_test]], columns=results_df.columns)\n",
    "results_df = results_df._append(new_row_df, ignore_index=True)\n",
    "\n",
    "results_df"
   ]
  },
  {
   "cell_type": "markdown",
   "id": "d8a5aca1-3275-48da-8acb-43a21518ec2d",
   "metadata": {
    "tags": []
   },
   "source": [
    "## -- WEB APP LAUNCH DECISION #1 - TEXTUAL --"
   ]
  },
  {
   "cell_type": "markdown",
   "id": "8c45f2d9-c639-41d2-8bfe-2048aba2d75c",
   "metadata": {},
   "source": [
    "### Evaluation and Decision\n",
    "\n",
    "While the simple linear regression model shows an improvement over the benchmark, there are several considerations to weigh before deciding to launch the evaluator web app using this model:\n",
    "\n",
    "1. **Predictive Performance**: The improvement in RMSLE from the benchmark (training RMSLE: 0.379786, test RMSLE: 0.419991) to the simple linear model (training RMSLE: 0.293938, test RMSLE: 0.400638) demonstrates that 'distance_to_the_nearest_MRT_station' is a relevant feature for predicting property prices. However, the test RMSLE of 0.400638, although lower than the benchmark's test RMSLE of 0.419991, still indicates a significant margin of error. This level of error might be acceptable for initial explorations or as a supplementary tool but might not meet the accuracy needs for critical financial decisions.\n",
    "\n",
    "2. **Model Complexity and Features**: The model's simplicity, while a strength in terms of interpretability and speed, is also a limitation. Real estate prices are influenced by a multitude of factors beyond the distance to the nearest MRT station, including property size, age, proximity to amenities, economic conditions, and more. A model that incorporates a broader set of features is likely to provide more accurate and nuanced predictions.\n",
    "\n",
    "3. **User Expectations and Market Positioning**: The decision to launch the web app also depends on the intended user base and the competitive landscape. If the app aims to attract users by providing highly accurate and reliable property valuations, launching with a simple linear regression model might not meet user expectations and could negatively impact the app's reputation. However, if the app is positioned as a starting point for valuation, with clear disclaimers about the model's simplicity and the need for further professional appraisal, it could still provide value to its users.\n",
    "\n",
    "4. **Future Improvements and Scalability**: Launching the app with the current model does not preclude future enhancements. The app could be launched with a roadmap for incorporating more complex models and additional features, engaging early users for feedback to guide these improvements.\n",
    "\n",
    "### Conclusion\n",
    "\n",
    "Given the context and considering the factors above, launching the evaluator web app with the current simple linear regression model could be premature if high accuracy is critical. It might be more prudent to first improve the model's predictive power by exploring more complex models and incorporating a wider range of features. However, if the app is clearly marketed as a preliminary tool intended to evolve based on user feedback and further development, launching could provide early insights and user engagement to inform future iterations."
   ]
  },
  {
   "cell_type": "markdown",
   "id": "e3e19d42-41cd-4bcd-8a8a-79ecf37d0e9f",
   "metadata": {},
   "source": [
    "## 5. Multivariate Linear Model"
   ]
  },
  {
   "cell_type": "code",
   "execution_count": 13,
   "id": "393475d6-410d-4a43-9e23-18c8b3c76f6c",
   "metadata": {
    "tags": []
   },
   "outputs": [],
   "source": [
    "# Fit the multivariate model with all available features\n",
    "multivariate_model = LinearRegression()\n",
    "multivariate_model.fit(X_train, y_train)\n",
    "y_pred_multi = multivariate_model.predict(X_test)\n",
    "\n",
    "# Calculate RMSLE for the multivariate model\n",
    "rmsle_multi_train = calculateRMSLE(multivariate_model.predict(X_train), y_train)\n",
    "rmsle_multi_test = calculateRMSLE(y_pred_multi, y_test)"
   ]
  },
  {
   "cell_type": "code",
   "execution_count": 14,
   "id": "064087e2-1af6-4def-9fdc-2d82e33645d6",
   "metadata": {
    "tags": []
   },
   "outputs": [
    {
     "data": {
      "text/html": [
       "<div>\n",
       "<style scoped>\n",
       "    .dataframe tbody tr th:only-of-type {\n",
       "        vertical-align: middle;\n",
       "    }\n",
       "\n",
       "    .dataframe tbody tr th {\n",
       "        vertical-align: top;\n",
       "    }\n",
       "\n",
       "    .dataframe thead th {\n",
       "        text-align: right;\n",
       "    }\n",
       "</style>\n",
       "<table border=\"1\" class=\"dataframe\">\n",
       "  <thead>\n",
       "    <tr style=\"text-align: right;\">\n",
       "      <th></th>\n",
       "      <th>Model</th>\n",
       "      <th>Train RMSLE</th>\n",
       "      <th>Test RMSLE</th>\n",
       "    </tr>\n",
       "  </thead>\n",
       "  <tbody>\n",
       "    <tr>\n",
       "      <th>0</th>\n",
       "      <td>Benchmark</td>\n",
       "      <td>0.379786</td>\n",
       "      <td>0.419991</td>\n",
       "    </tr>\n",
       "    <tr>\n",
       "      <th>1</th>\n",
       "      <td>Simple Linear</td>\n",
       "      <td>0.293938</td>\n",
       "      <td>0.400638</td>\n",
       "    </tr>\n",
       "    <tr>\n",
       "      <th>2</th>\n",
       "      <td>Multivariate Linear</td>\n",
       "      <td>0.265986</td>\n",
       "      <td>0.372339</td>\n",
       "    </tr>\n",
       "  </tbody>\n",
       "</table>\n",
       "</div>"
      ],
      "text/plain": [
       "                 Model  Train RMSLE  Test RMSLE\n",
       "0            Benchmark     0.379786    0.419991\n",
       "1        Simple Linear     0.293938    0.400638\n",
       "2  Multivariate Linear     0.265986    0.372339"
      ]
     },
     "execution_count": 14,
     "metadata": {},
     "output_type": "execute_result"
    }
   ],
   "source": [
    "new_row_df = pd.DataFrame([[\"Multivariate Linear\", rmsle_multi_train, rmsle_multi_test]], columns=results_df.columns)\n",
    "results_df = results_df._append(new_row_df, ignore_index=True)\n",
    "\n",
    "results_df"
   ]
  },
  {
   "cell_type": "markdown",
   "id": "e99fc2e1-3a36-481b-9ea5-79562de78b3a",
   "metadata": {},
   "source": [
    "**Description:** Incorporating all available features, the multivariate linear regression model significantly reduces both the training and test RMSLE to 0.237757 and 0.285437, respectively. This improvement suggests that additional features provide valuable information for predicting house prices, making this model more robust than the simple linear regression model."
   ]
  },
  {
   "cell_type": "markdown",
   "id": "75de4c70-39cb-4bb6-8a0c-aeca5e962e48",
   "metadata": {
    "tags": []
   },
   "source": [
    "## 6. Polynomial Linear Model"
   ]
  },
  {
   "cell_type": "code",
   "execution_count": 15,
   "id": "1e826552-f094-4eb8-b8f7-7242e0e2b062",
   "metadata": {
    "tags": []
   },
   "outputs": [
    {
     "data": {
      "text/plain": [
       "(0.16114912316425534, 0.38617468066917626)"
      ]
     },
     "execution_count": 15,
     "metadata": {},
     "output_type": "execute_result"
    }
   ],
   "source": [
    "# Define the pipeline steps\n",
    "pipeline_steps = [\n",
    "    ('scaler', StandardScaler()),\n",
    "    ('poly_features', PolynomialFeatures(degree=2, include_bias=False)),\n",
    "    ('linear_regression', LinearRegression())\n",
    "]\n",
    "\n",
    "# Create the pipeline\n",
    "pipeline = Pipeline(pipeline_steps)\n",
    "\n",
    "# Fit the model\n",
    "pipeline.fit(X_train, y_train)\n",
    "\n",
    "# Predict and evaluate\n",
    "y_pred_train = pipeline.predict(X_train)\n",
    "y_pred_test = pipeline.predict(X_test)\n",
    "\n",
    "train_rmsle = calculateRMSLE(y_train, y_pred_train)\n",
    "test_rmsle = calculateRMSLE(y_test, y_pred_test)\n",
    "\n",
    "train_rmsle, test_rmsle"
   ]
  },
  {
   "cell_type": "code",
   "execution_count": 16,
   "id": "e8ab85ed-6e43-4031-a4b2-1c5b4cff7a7b",
   "metadata": {
    "tags": []
   },
   "outputs": [
    {
     "data": {
      "text/html": [
       "<div>\n",
       "<style scoped>\n",
       "    .dataframe tbody tr th:only-of-type {\n",
       "        vertical-align: middle;\n",
       "    }\n",
       "\n",
       "    .dataframe tbody tr th {\n",
       "        vertical-align: top;\n",
       "    }\n",
       "\n",
       "    .dataframe thead th {\n",
       "        text-align: right;\n",
       "    }\n",
       "</style>\n",
       "<table border=\"1\" class=\"dataframe\">\n",
       "  <thead>\n",
       "    <tr style=\"text-align: right;\">\n",
       "      <th></th>\n",
       "      <th>Model</th>\n",
       "      <th>Train RMSLE</th>\n",
       "      <th>Test RMSLE</th>\n",
       "    </tr>\n",
       "  </thead>\n",
       "  <tbody>\n",
       "    <tr>\n",
       "      <th>0</th>\n",
       "      <td>Benchmark</td>\n",
       "      <td>0.379786</td>\n",
       "      <td>0.419991</td>\n",
       "    </tr>\n",
       "    <tr>\n",
       "      <th>1</th>\n",
       "      <td>Simple Linear</td>\n",
       "      <td>0.293938</td>\n",
       "      <td>0.400638</td>\n",
       "    </tr>\n",
       "    <tr>\n",
       "      <th>2</th>\n",
       "      <td>Multivariate Linear</td>\n",
       "      <td>0.265986</td>\n",
       "      <td>0.372339</td>\n",
       "    </tr>\n",
       "    <tr>\n",
       "      <th>3</th>\n",
       "      <td>Linear with Polynomial</td>\n",
       "      <td>0.161149</td>\n",
       "      <td>0.386175</td>\n",
       "    </tr>\n",
       "  </tbody>\n",
       "</table>\n",
       "</div>"
      ],
      "text/plain": [
       "                    Model  Train RMSLE  Test RMSLE\n",
       "0               Benchmark     0.379786    0.419991\n",
       "1           Simple Linear     0.293938    0.400638\n",
       "2     Multivariate Linear     0.265986    0.372339\n",
       "3  Linear with Polynomial     0.161149    0.386175"
      ]
     },
     "execution_count": 16,
     "metadata": {},
     "output_type": "execute_result"
    }
   ],
   "source": [
    "new_row_df = pd.DataFrame([[\"Linear with Polynomial\", train_rmsle, test_rmsle]], columns=results_df.columns)\n",
    "results_df = results_df._append(new_row_df, ignore_index=True)\n",
    "\n",
    "results_df"
   ]
  },
  {
   "cell_type": "markdown",
   "id": "d6bacceb-e64e-42db-8f10-bb2129e104b3",
   "metadata": {},
   "source": [
    "**Description:** The Polynomial Linear Model, created through a pipeline involving standard scaling, polynomial feature enhancement, and linear regression, aims to address complex, non-linear relationships between features and the target variable for improved prediction accuracy. Achieving a training RMSLE of 0.161149 and a test RMSLE of 0.386175, the model exhibits enhanced fitting capabilities but also indicates potential overfitting, as seen by the discrepancy between training and test errors. This approach underscores the importance of polynomial features in capturing intricate data patterns, though it highlights the need for careful model tuning to balance fit and generalization."
   ]
  },
  {
   "cell_type": "markdown",
   "id": "ddd466a8-091b-4540-837e-c13b89799f5d",
   "metadata": {
    "tags": []
   },
   "source": [
    "## 7. Model Improvement"
   ]
  },
  {
   "cell_type": "markdown",
   "id": "8d2dbf60-da5c-4e89-b22a-5d88b024a655",
   "metadata": {
    "tags": []
   },
   "source": [
    "### 7.1 Feature Engineering"
   ]
  },
  {
   "cell_type": "code",
   "execution_count": 17,
   "id": "f8ee5625-468f-4927-9569-49c8a8ff1376",
   "metadata": {
    "tags": []
   },
   "outputs": [],
   "source": [
    "# Improved function for creating year and month columns from transaction_date\n",
    "def create_time_features(df):\n",
    "    # Extract year and convert to categorical\n",
    "    df['year'] = df['transaction_date'].apply(lambda x: int(x)).astype('category')\n",
    "    \n",
    "    # Calculate month, handle edge case for December, and convert to categorical\n",
    "    df['month'] = df['transaction_date'].apply(lambda x: 12 if (x % 1 == 0) else round((x % 1) * 12)).astype(int).astype('category')\n",
    "\n",
    "# Function for calculating distance from Taipei city center\n",
    "def distance_from_cc(lat, lon):\n",
    "    # Taipei City Center coordinates\n",
    "    cc_lat, cc_lon = 25.03583333, 121.5683333\n",
    "    # Convert degrees to radians\n",
    "    lat, lon, cc_lat, cc_lon = map(np.radians, [lat, lon, cc_lat, cc_lon])\n",
    "    # Haversine formula\n",
    "    dlat = lat - cc_lat\n",
    "    dlon = lon - cc_lon\n",
    "    a = np.sin(dlat/2)**2 + np.cos(cc_lat) * np.cos(lat) * np.sin(dlon/2)**2\n",
    "    c = 2 * np.arctan2(np.sqrt(a), np.sqrt(1-a))\n",
    "    # Earth radius in kilometers is approximately 6371\n",
    "    distance = 6371 * c\n",
    "    return distance\n",
    "\n",
    "def get_log_of_mrt_distance(df):\n",
    "    # Using np.log1p for numerical stability, as it calculates log(1 + x)\n",
    "    df['distance_to_the_nearest_MRT_station_log'] = np.log1p(df['distance_to_the_nearest_MRT_station'])\n",
    "    \n",
    "    # Drop the original 'distance_to_the_nearest_MRT_station' column\n",
    "    df.drop(columns=['distance_to_the_nearest_MRT_station'], inplace=True)\n",
    "    \n",
    "    return df"
   ]
  },
  {
   "cell_type": "code",
   "execution_count": 18,
   "id": "d63f4b98-26cf-4aae-9f16-590e9074513c",
   "metadata": {
    "tags": []
   },
   "outputs": [
    {
     "name": "stdout",
     "output_type": "stream",
     "text": [
      "Size of the FE training set: (58, 6), size of the FE test set: (25, 6)\n"
     ]
    }
   ],
   "source": [
    "# Apply time_calculation\n",
    "create_time_features(real_estate_sample)\n",
    "\n",
    "real_estate_sample = get_log_of_mrt_distance(real_estate_sample)\n",
    "\n",
    "# Apply the distance calculation and store results in a new column\n",
    "real_estate_sample['km_distance_from_cc'] = real_estate_sample.apply(lambda row: distance_from_cc(row['latitude'], row['longitude']), axis=1)\n",
    "\n",
    "# Preparing data by dropping unnecessary columns for model input\n",
    "features_eng = real_estate_sample.drop(columns=['house_price_of_unit_area', 'transaction_date', 'latitude', 'longitude'])\n",
    "\n",
    "# Splitting the data into training and test sets with engineered features\n",
    "X_train_fe, X_test_fe, y_train_fe, y_test_fe = train_test_split(features_eng, outcome, test_size=0.3, random_state=prng)\n",
    "\n",
    "print(f\"Size of the FE training set: {X_train_fe.shape}, size of the FE test set: {X_test_fe.shape}\")"
   ]
  },
  {
   "cell_type": "code",
   "execution_count": 19,
   "id": "fc5c184e-f7a9-4570-8fdd-c6e9f0a4c4d1",
   "metadata": {
    "tags": []
   },
   "outputs": [
    {
     "data": {
      "text/html": [
       "<div>\n",
       "<style scoped>\n",
       "    .dataframe tbody tr th:only-of-type {\n",
       "        vertical-align: middle;\n",
       "    }\n",
       "\n",
       "    .dataframe tbody tr th {\n",
       "        vertical-align: top;\n",
       "    }\n",
       "\n",
       "    .dataframe thead th {\n",
       "        text-align: right;\n",
       "    }\n",
       "</style>\n",
       "<table border=\"1\" class=\"dataframe\">\n",
       "  <thead>\n",
       "    <tr style=\"text-align: right;\">\n",
       "      <th></th>\n",
       "      <th>house_age</th>\n",
       "      <th>number_of_convenience_stores</th>\n",
       "      <th>year</th>\n",
       "      <th>month</th>\n",
       "      <th>distance_to_the_nearest_MRT_station_log</th>\n",
       "      <th>km_distance_from_cc</th>\n",
       "    </tr>\n",
       "  </thead>\n",
       "  <tbody>\n",
       "    <tr>\n",
       "      <th>296</th>\n",
       "      <td>12.5</td>\n",
       "      <td>4</td>\n",
       "      <td>2012</td>\n",
       "      <td>9</td>\n",
       "      <td>7.043541</td>\n",
       "      <td>5.966475</td>\n",
       "    </tr>\n",
       "    <tr>\n",
       "      <th>102</th>\n",
       "      <td>1.1</td>\n",
       "      <td>6</td>\n",
       "      <td>2013</td>\n",
       "      <td>1</td>\n",
       "      <td>5.270867</td>\n",
       "      <td>8.273301</td>\n",
       "    </tr>\n",
       "    <tr>\n",
       "      <th>387</th>\n",
       "      <td>16.2</td>\n",
       "      <td>3</td>\n",
       "      <td>2013</td>\n",
       "      <td>3</td>\n",
       "      <td>7.651859</td>\n",
       "      <td>9.980982</td>\n",
       "    </tr>\n",
       "    <tr>\n",
       "      <th>6</th>\n",
       "      <td>34.5</td>\n",
       "      <td>7</td>\n",
       "      <td>2012</td>\n",
       "      <td>8</td>\n",
       "      <td>6.436908</td>\n",
       "      <td>7.058101</td>\n",
       "    </tr>\n",
       "    <tr>\n",
       "      <th>366</th>\n",
       "      <td>14.2</td>\n",
       "      <td>1</td>\n",
       "      <td>2012</td>\n",
       "      <td>9</td>\n",
       "      <td>7.496954</td>\n",
       "      <td>9.508272</td>\n",
       "    </tr>\n",
       "  </tbody>\n",
       "</table>\n",
       "</div>"
      ],
      "text/plain": [
       "     house_age  number_of_convenience_stores  year month  \\\n",
       "296       12.5                             4  2012     9   \n",
       "102        1.1                             6  2013     1   \n",
       "387       16.2                             3  2013     3   \n",
       "6         34.5                             7  2012     8   \n",
       "366       14.2                             1  2012     9   \n",
       "\n",
       "     distance_to_the_nearest_MRT_station_log  km_distance_from_cc  \n",
       "296                                 7.043541             5.966475  \n",
       "102                                 5.270867             8.273301  \n",
       "387                                 7.651859             9.980982  \n",
       "6                                   6.436908             7.058101  \n",
       "366                                 7.496954             9.508272  "
      ]
     },
     "execution_count": 19,
     "metadata": {},
     "output_type": "execute_result"
    }
   ],
   "source": [
    "X_train_fe.head()"
   ]
  },
  {
   "cell_type": "markdown",
   "id": "e8e2f42e-0b41-4ed1-afd7-5e251800dadb",
   "metadata": {},
   "source": [
    "**Description:** The Feature Engineering section focuses on elevating the model's predictive accuracy through sophisticated feature engineering techniques. Key enhancements include transforming the `transaction_date` into categorical `year` and `month` columns to capture temporal effects on property prices. Additionally, the introduction of a distance calculation function leverages the Haversine formula to estimate the distance from Taipei city center, enriching the dataset with geographical insights. Another significant improvement is the logarithmic transformation of the distance to the nearest MRT station, addressing scale disparities and non-linear effects. These engineered features are then integrated into the model's training and testing datasets, allowing for a more nuanced understanding of factors influencing property prices. The preparation and application of these feature engineering steps result in a dataset poised for more accurate and insightful predictions, underpinning the model's enhanced performance."
   ]
  },
  {
   "cell_type": "markdown",
   "id": "546391ea-289a-4c0a-9de2-cd6c5cb7eb27",
   "metadata": {},
   "source": [
    "### 7.2 Flexible Models"
   ]
  },
  {
   "cell_type": "markdown",
   "id": "66696f8f-fe63-4b01-b90b-095e2c32b986",
   "metadata": {},
   "source": [
    "#### 7.2.1 Feature Engineered Flexible Linear Model"
   ]
  },
  {
   "cell_type": "code",
   "execution_count": 20,
   "id": "acfd2140-37e0-4148-8d1b-3a3b2ac61ea3",
   "metadata": {
    "tags": []
   },
   "outputs": [
    {
     "data": {
      "text/plain": [
       "(0.10296081505270668, 0.31295956811913533)"
      ]
     },
     "execution_count": 20,
     "metadata": {},
     "output_type": "execute_result"
    }
   ],
   "source": [
    "# Define the pipeline steps\n",
    "pipeline_steps = [\n",
    "    ('scaler', StandardScaler()),\n",
    "    ('poly_features', PolynomialFeatures(degree=2, include_bias=False)),\n",
    "    ('linear_regression', LinearRegression())\n",
    "]\n",
    "\n",
    "# Create the pipeline\n",
    "pipeline = Pipeline(pipeline_steps)\n",
    "\n",
    "# Fit the model\n",
    "pipeline.fit(X_train_fe, y_train_fe)\n",
    "\n",
    "# Predict and evaluate\n",
    "y_pred_train = pipeline.predict(X_train_fe)\n",
    "y_pred_test = pipeline.predict(X_test_fe)\n",
    "\n",
    "train_rmsle = calculateRMSLE(y_train_fe, y_pred_train)\n",
    "test_rmsle = calculateRMSLE(y_test_fe, y_pred_test)\n",
    "\n",
    "train_rmsle, test_rmsle"
   ]
  },
  {
   "cell_type": "code",
   "execution_count": 21,
   "id": "bfb1a7ea-f7ce-4b41-86fa-3e659f2fcdc4",
   "metadata": {
    "tags": []
   },
   "outputs": [
    {
     "data": {
      "text/html": [
       "<div>\n",
       "<style scoped>\n",
       "    .dataframe tbody tr th:only-of-type {\n",
       "        vertical-align: middle;\n",
       "    }\n",
       "\n",
       "    .dataframe tbody tr th {\n",
       "        vertical-align: top;\n",
       "    }\n",
       "\n",
       "    .dataframe thead th {\n",
       "        text-align: right;\n",
       "    }\n",
       "</style>\n",
       "<table border=\"1\" class=\"dataframe\">\n",
       "  <thead>\n",
       "    <tr style=\"text-align: right;\">\n",
       "      <th></th>\n",
       "      <th>Model</th>\n",
       "      <th>Train RMSLE</th>\n",
       "      <th>Test RMSLE</th>\n",
       "    </tr>\n",
       "  </thead>\n",
       "  <tbody>\n",
       "    <tr>\n",
       "      <th>0</th>\n",
       "      <td>Benchmark</td>\n",
       "      <td>0.379786</td>\n",
       "      <td>0.419991</td>\n",
       "    </tr>\n",
       "    <tr>\n",
       "      <th>1</th>\n",
       "      <td>Simple Linear</td>\n",
       "      <td>0.293938</td>\n",
       "      <td>0.400638</td>\n",
       "    </tr>\n",
       "    <tr>\n",
       "      <th>2</th>\n",
       "      <td>Multivariate Linear</td>\n",
       "      <td>0.265986</td>\n",
       "      <td>0.372339</td>\n",
       "    </tr>\n",
       "    <tr>\n",
       "      <th>3</th>\n",
       "      <td>Linear with Polynomial</td>\n",
       "      <td>0.161149</td>\n",
       "      <td>0.386175</td>\n",
       "    </tr>\n",
       "    <tr>\n",
       "      <th>4</th>\n",
       "      <td>Linear with Polynomial - Feature Engineered</td>\n",
       "      <td>0.102961</td>\n",
       "      <td>0.312960</td>\n",
       "    </tr>\n",
       "  </tbody>\n",
       "</table>\n",
       "</div>"
      ],
      "text/plain": [
       "                                         Model  Train RMSLE  Test RMSLE\n",
       "0                                    Benchmark     0.379786    0.419991\n",
       "1                                Simple Linear     0.293938    0.400638\n",
       "2                          Multivariate Linear     0.265986    0.372339\n",
       "3                       Linear with Polynomial     0.161149    0.386175\n",
       "4  Linear with Polynomial - Feature Engineered     0.102961    0.312960"
      ]
     },
     "execution_count": 21,
     "metadata": {},
     "output_type": "execute_result"
    }
   ],
   "source": [
    "new_row_df = pd.DataFrame([[\"Linear with Polynomial - Feature Engineered\", train_rmsle, test_rmsle]], columns=results_df.columns)\n",
    "results_df = results_df._append(new_row_df, ignore_index=True)\n",
    "\n",
    "results_df"
   ]
  },
  {
   "cell_type": "markdown",
   "id": "ce3da5a0-7279-4682-a277-8a7ad072797b",
   "metadata": {},
   "source": [
    "**Description:** The Feature Engineered Flexible Linear Model employs a sophisticated pipeline that integrates standard scaling, polynomial feature transformation, and linear regression to better capture the nuanced dynamics between features and the target variable. This model, tailored with feature engineering and polynomial expansion, demonstrates a notable improvement in predictive performance, achieving a training RMSLE of 0.102960 and a test RMSLE of 0.312960. Such results indicate a significant enhancement in fitting the training data, with a maintained ability to generalize to unseen data, showcasing the effectiveness of combining feature engineering with polynomial feature expansion in refining model accuracy."
   ]
  },
  {
   "cell_type": "markdown",
   "id": "252605ba-3601-44b2-9c28-515080d66e0a",
   "metadata": {},
   "source": [
    "#### 7.2.2 Random Forest Model"
   ]
  },
  {
   "cell_type": "code",
   "execution_count": 22,
   "id": "43dd11b1-a999-4d2e-b3bc-87a51e07ac16",
   "metadata": {
    "tags": []
   },
   "outputs": [
    {
     "name": "stdout",
     "output_type": "stream",
     "text": [
      "Fitting 3 folds for each of 81 candidates, totalling 243 fits\n"
     ]
    },
    {
     "data": {
      "text/plain": [
       "{'max_depth': 10,\n",
       " 'min_samples_leaf': 2,\n",
       " 'min_samples_split': 2,\n",
       " 'n_estimators': 100}"
      ]
     },
     "execution_count": 22,
     "metadata": {},
     "output_type": "execute_result"
    }
   ],
   "source": [
    "# Define the Random Forest model\n",
    "rf_model = RandomForestRegressor(random_state=prng)\n",
    "\n",
    "# Set up the parameter grid for hyperparameter optimization\n",
    "param_grid = {\n",
    "    'n_estimators': [50, 100, 150],  # Number of trees in the forest\n",
    "    'max_depth': [10, 20, 30],  # Maximum depth of the tree\n",
    "    'min_samples_split': [2, 5, 10],  # Minimum number of samples required to split an internal node\n",
    "    'min_samples_leaf': [1, 2, 4]  # Minimum number of samples required to be at a leaf node\n",
    "}\n",
    "\n",
    "# Set up GridSearchCV\n",
    "grid_search = GridSearchCV(estimator=rf_model, param_grid=param_grid, cv=3, n_jobs=-1, verbose=2, scoring='neg_mean_squared_error')\n",
    "\n",
    "# Fit the model using GridSearchCV\n",
    "grid_search.fit(X_train_fe, y_train_fe)\n",
    "\n",
    "# Retrieve the best model\n",
    "best_rf_model = grid_search.best_estimator_\n",
    "\n",
    "# Predict and evaluate using RMSLE for the best model\n",
    "y_pred_train_best_rf = best_rf_model.predict(X_train_fe)\n",
    "y_pred_test_best_rf = best_rf_model.predict(X_test_fe)\n",
    "\n",
    "train_rmsle_best_rf = calculateRMSLE(y_train_fe, y_pred_train_best_rf)\n",
    "test_rmsle_best_rf = calculateRMSLE(y_test_fe, y_pred_test_best_rf)\n",
    "\n",
    "best_params = grid_search.best_params_\n",
    "\n",
    "best_params\n"
   ]
  },
  {
   "cell_type": "code",
   "execution_count": 23,
   "id": "f2422963-eb59-418b-9423-60660d252c9d",
   "metadata": {
    "tags": []
   },
   "outputs": [
    {
     "data": {
      "text/html": [
       "<div>\n",
       "<style scoped>\n",
       "    .dataframe tbody tr th:only-of-type {\n",
       "        vertical-align: middle;\n",
       "    }\n",
       "\n",
       "    .dataframe tbody tr th {\n",
       "        vertical-align: top;\n",
       "    }\n",
       "\n",
       "    .dataframe thead th {\n",
       "        text-align: right;\n",
       "    }\n",
       "</style>\n",
       "<table border=\"1\" class=\"dataframe\">\n",
       "  <thead>\n",
       "    <tr style=\"text-align: right;\">\n",
       "      <th></th>\n",
       "      <th>Model</th>\n",
       "      <th>Train RMSLE</th>\n",
       "      <th>Test RMSLE</th>\n",
       "    </tr>\n",
       "  </thead>\n",
       "  <tbody>\n",
       "    <tr>\n",
       "      <th>0</th>\n",
       "      <td>Benchmark</td>\n",
       "      <td>0.379786</td>\n",
       "      <td>0.419991</td>\n",
       "    </tr>\n",
       "    <tr>\n",
       "      <th>1</th>\n",
       "      <td>Simple Linear</td>\n",
       "      <td>0.293938</td>\n",
       "      <td>0.400638</td>\n",
       "    </tr>\n",
       "    <tr>\n",
       "      <th>2</th>\n",
       "      <td>Multivariate Linear</td>\n",
       "      <td>0.265986</td>\n",
       "      <td>0.372339</td>\n",
       "    </tr>\n",
       "    <tr>\n",
       "      <th>3</th>\n",
       "      <td>Linear with Polynomial</td>\n",
       "      <td>0.161149</td>\n",
       "      <td>0.386175</td>\n",
       "    </tr>\n",
       "    <tr>\n",
       "      <th>4</th>\n",
       "      <td>Linear with Polynomial - Feature Engineered</td>\n",
       "      <td>0.102961</td>\n",
       "      <td>0.312960</td>\n",
       "    </tr>\n",
       "    <tr>\n",
       "      <th>5</th>\n",
       "      <td>Random Forest - Feature Engineered</td>\n",
       "      <td>0.093142</td>\n",
       "      <td>0.255795</td>\n",
       "    </tr>\n",
       "  </tbody>\n",
       "</table>\n",
       "</div>"
      ],
      "text/plain": [
       "                                         Model  Train RMSLE  Test RMSLE\n",
       "0                                    Benchmark     0.379786    0.419991\n",
       "1                                Simple Linear     0.293938    0.400638\n",
       "2                          Multivariate Linear     0.265986    0.372339\n",
       "3                       Linear with Polynomial     0.161149    0.386175\n",
       "4  Linear with Polynomial - Feature Engineered     0.102961    0.312960\n",
       "5           Random Forest - Feature Engineered     0.093142    0.255795"
      ]
     },
     "execution_count": 23,
     "metadata": {},
     "output_type": "execute_result"
    }
   ],
   "source": [
    "new_row_df = pd.DataFrame([[\"Random Forest - Feature Engineered\", train_rmsle_best_rf, test_rmsle_best_rf]], columns=results_df.columns)\n",
    "results_df = results_df._append(new_row_df, ignore_index=True)\n",
    "\n",
    "results_df"
   ]
  },
  {
   "cell_type": "markdown",
   "id": "96295225-05a0-4b4d-8315-3ad10bd6f7df",
   "metadata": {},
   "source": [
    "**Description:** The Feature Engineered Random Forest Model leverages a grid search for hyperparameter optimization across critical parameters, including the number of trees, maximum depth, minimum samples for splits, and leaf nodes, to tailor a Random Forest Regressor for enhanced prediction accuracy. Upon fitting the optimized model to feature-engineered training data, it achieved a training RMSLE of 0.093142 and a test RMSLE of 0.255795. These outcomes underscore the model's robustness in handling complex patterns in the data, as well as its considerable generalization ability to unseen data. The use of a comprehensive grid search helped identify an optimal configuration (100 trees, 10 max depth, 2 min samples split, and 2 min samples leaf), indicating the effectiveness of Random Forest in navigating the feature-rich landscape for precise property price prediction."
   ]
  },
  {
   "cell_type": "markdown",
   "id": "df8572ab-95d7-46bc-9021-3f69f75f940d",
   "metadata": {
    "tags": []
   },
   "source": [
    "#### 7.2.3 Gradient Boosted Model"
   ]
  },
  {
   "cell_type": "code",
   "execution_count": 24,
   "id": "c2a5cc7f-a4cc-4d13-9d65-8eb71f99d344",
   "metadata": {
    "tags": []
   },
   "outputs": [
    {
     "name": "stdout",
     "output_type": "stream",
     "text": [
      "Fitting 3 folds for each of 243 candidates, totalling 729 fits\n"
     ]
    },
    {
     "data": {
      "text/plain": [
       "{'max_depth': 10,\n",
       " 'min_samples_leaf': 2,\n",
       " 'min_samples_split': 2,\n",
       " 'n_estimators': 100}"
      ]
     },
     "execution_count": 24,
     "metadata": {},
     "output_type": "execute_result"
    }
   ],
   "source": [
    "# Define the GBM model\n",
    "gbm_model = GradientBoostingRegressor(random_state=prng)\n",
    "\n",
    "# Set up the parameter grid for hyperparameter optimization\n",
    "gbm_param_grid = {\n",
    "    'n_estimators': [50, 100, 150],\n",
    "    'max_depth': [10, 20, 30],\n",
    "    'learning_rate': [0.01, 0.1, 0.2],\n",
    "    'min_samples_split': [2, 5, 10],\n",
    "    'min_samples_leaf': [1, 2, 4]\n",
    "}\n",
    "\n",
    "# Set up GridSearchCV for GBM\n",
    "gbm_grid_search = GridSearchCV(estimator=gbm_model, param_grid=gbm_param_grid, cv=3, n_jobs=-1, verbose=2, scoring='neg_mean_squared_error')\n",
    "\n",
    "# Fit the model using GridSearchCV\n",
    "gbm_grid_search.fit(X_train_fe, y_train_fe)\n",
    "\n",
    "# Retrieve the best GBM model\n",
    "best_gbm_model = gbm_grid_search.best_estimator_\n",
    "\n",
    "\n",
    "# Predict and evaluate using RMSLE for the best model\n",
    "y_pred_train_best_gbm = best_gbm_model.predict(X_train_fe)\n",
    "y_pred_test_best_gbm = best_gbm_model.predict(X_test_fe)\n",
    "\n",
    "train_rmsle_best_gbm = calculateRMSLE(y_train_fe, y_pred_train_best_gbm)\n",
    "test_rmsle_best_gbm = calculateRMSLE(y_test_fe, y_pred_test_best_gbm)\n",
    "\n",
    "best_params = grid_search.best_params_\n",
    "\n",
    "best_params"
   ]
  },
  {
   "cell_type": "code",
   "execution_count": 25,
   "id": "7e61f587-7991-4db6-bb64-8df47cc7f359",
   "metadata": {
    "tags": []
   },
   "outputs": [
    {
     "data": {
      "text/html": [
       "<div>\n",
       "<style scoped>\n",
       "    .dataframe tbody tr th:only-of-type {\n",
       "        vertical-align: middle;\n",
       "    }\n",
       "\n",
       "    .dataframe tbody tr th {\n",
       "        vertical-align: top;\n",
       "    }\n",
       "\n",
       "    .dataframe thead th {\n",
       "        text-align: right;\n",
       "    }\n",
       "</style>\n",
       "<table border=\"1\" class=\"dataframe\">\n",
       "  <thead>\n",
       "    <tr style=\"text-align: right;\">\n",
       "      <th></th>\n",
       "      <th>Model</th>\n",
       "      <th>Train RMSLE</th>\n",
       "      <th>Test RMSLE</th>\n",
       "    </tr>\n",
       "  </thead>\n",
       "  <tbody>\n",
       "    <tr>\n",
       "      <th>0</th>\n",
       "      <td>Benchmark</td>\n",
       "      <td>0.379786</td>\n",
       "      <td>0.419991</td>\n",
       "    </tr>\n",
       "    <tr>\n",
       "      <th>1</th>\n",
       "      <td>Simple Linear</td>\n",
       "      <td>0.293938</td>\n",
       "      <td>0.400638</td>\n",
       "    </tr>\n",
       "    <tr>\n",
       "      <th>2</th>\n",
       "      <td>Multivariate Linear</td>\n",
       "      <td>0.265986</td>\n",
       "      <td>0.372339</td>\n",
       "    </tr>\n",
       "    <tr>\n",
       "      <th>3</th>\n",
       "      <td>Linear with Polynomial</td>\n",
       "      <td>0.161149</td>\n",
       "      <td>0.386175</td>\n",
       "    </tr>\n",
       "    <tr>\n",
       "      <th>4</th>\n",
       "      <td>Linear with Polynomial - Feature Engineered</td>\n",
       "      <td>0.102961</td>\n",
       "      <td>0.312960</td>\n",
       "    </tr>\n",
       "    <tr>\n",
       "      <th>5</th>\n",
       "      <td>Random Forest - Feature Engineered</td>\n",
       "      <td>0.093142</td>\n",
       "      <td>0.255795</td>\n",
       "    </tr>\n",
       "    <tr>\n",
       "      <th>6</th>\n",
       "      <td>GBM - Feature Engineered</td>\n",
       "      <td>0.035540</td>\n",
       "      <td>0.256478</td>\n",
       "    </tr>\n",
       "  </tbody>\n",
       "</table>\n",
       "</div>"
      ],
      "text/plain": [
       "                                         Model  Train RMSLE  Test RMSLE\n",
       "0                                    Benchmark     0.379786    0.419991\n",
       "1                                Simple Linear     0.293938    0.400638\n",
       "2                          Multivariate Linear     0.265986    0.372339\n",
       "3                       Linear with Polynomial     0.161149    0.386175\n",
       "4  Linear with Polynomial - Feature Engineered     0.102961    0.312960\n",
       "5           Random Forest - Feature Engineered     0.093142    0.255795\n",
       "6                     GBM - Feature Engineered     0.035540    0.256478"
      ]
     },
     "execution_count": 25,
     "metadata": {},
     "output_type": "execute_result"
    }
   ],
   "source": [
    "new_row_df = pd.DataFrame([[\"GBM - Feature Engineered\", train_rmsle_best_gbm, test_rmsle_best_gbm]], columns=results_df.columns)\n",
    "results_df = results_df._append(new_row_df, ignore_index=True)\n",
    "\n",
    "results_df"
   ]
  },
  {
   "cell_type": "markdown",
   "id": "d9fee674-0d67-4f35-bd13-82567a43d703",
   "metadata": {},
   "source": [
    "**Description:** The Feature Engineered Gradient Boosted Model (GBM) undergoes an exhaustive hyperparameter optimization via GridSearchCV, exploring options for the number of estimators, depth of trees, learning rates, and sample splits to enhance its performance. This process results in the selection of an optimal GBM configuration that significantly refines its predictive accuracy. Upon finalization, the model demonstrates a notable training RMSLE of 0.035540 and a test RMSLE of 0.256478, showcasing the GBM's capability to effectively learn from the feature-engineered data while maintaining a respectable level of generalization to new, unseen data. The optimization process identifies a model setup with 100 estimators, a maximum depth of 10, and minimum samples for splitting and leaf nodes set to 2, emphasizing the GBM's strength in handling complex data relationships for more accurate property price predictions."
   ]
  },
  {
   "cell_type": "markdown",
   "id": "7bb4495d-fffc-4346-8b13-48c590929844",
   "metadata": {},
   "source": [
    "#### 7.2.4 XGBoost Model"
   ]
  },
  {
   "cell_type": "code",
   "execution_count": 26,
   "id": "dc421d3c-df1d-4a00-9151-2eb1971c9913",
   "metadata": {
    "tags": []
   },
   "outputs": [
    {
     "name": "stdout",
     "output_type": "stream",
     "text": [
      "Fitting 3 folds for each of 54 candidates, totalling 162 fits\n"
     ]
    },
    {
     "data": {
      "text/plain": [
       "{'max_depth': 10,\n",
       " 'min_samples_leaf': 2,\n",
       " 'min_samples_split': 2,\n",
       " 'n_estimators': 100}"
      ]
     },
     "execution_count": 26,
     "metadata": {},
     "output_type": "execute_result"
    }
   ],
   "source": [
    "# Define the XGBoost model\n",
    "xgb_model = XGBRegressor(enable_categorical=True, random_state=prng)\n",
    "\n",
    "# Set up the parameter grid for hyperparameter optimization\n",
    "xgb_param_grid = {\n",
    "    'n_estimators': [50, 100, 150],\n",
    "    'max_depth': [10, 20, 30],\n",
    "    'learning_rate': [0.01, 0.1, 0.2],  # Similar to 'eta'\n",
    "    'subsample': [0.8, 1]  # Subsample ratio of the training instances\n",
    "}\n",
    "\n",
    "# Set up GridSearchCV for XGBoost\n",
    "xgb_grid_search = GridSearchCV(estimator=xgb_model, param_grid=xgb_param_grid, cv=3, n_jobs=-1, verbose=2, scoring='neg_mean_squared_error')\n",
    "\n",
    "# Fit the model using GridSearchCV\n",
    "xgb_grid_search.fit(X_train_fe, y_train_fe)\n",
    "\n",
    "# Retrieve the best XGBoost model\n",
    "best_xgb_model = xgb_grid_search.best_estimator_\n",
    "\n",
    "\n",
    "# Predict and evaluate using RMSLE for the best model\n",
    "y_pred_train_best_xgb = best_xgb_model.predict(X_train_fe)\n",
    "y_pred_test_best_xgb = best_xgb_model.predict(X_test_fe)\n",
    "\n",
    "train_rmsle_best_xgb = calculateRMSLE(y_train_fe, y_pred_train_best_xgb)\n",
    "test_rmsle_best_xgb = calculateRMSLE(y_test_fe, y_pred_test_best_xgb)\n",
    "\n",
    "best_params = grid_search.best_params_\n",
    "\n",
    "best_params"
   ]
  },
  {
   "cell_type": "code",
   "execution_count": 27,
   "id": "f994f8fb-070a-4d2a-af31-ec123859d614",
   "metadata": {
    "tags": []
   },
   "outputs": [
    {
     "data": {
      "text/html": [
       "<div>\n",
       "<style scoped>\n",
       "    .dataframe tbody tr th:only-of-type {\n",
       "        vertical-align: middle;\n",
       "    }\n",
       "\n",
       "    .dataframe tbody tr th {\n",
       "        vertical-align: top;\n",
       "    }\n",
       "\n",
       "    .dataframe thead th {\n",
       "        text-align: right;\n",
       "    }\n",
       "</style>\n",
       "<table border=\"1\" class=\"dataframe\">\n",
       "  <thead>\n",
       "    <tr style=\"text-align: right;\">\n",
       "      <th></th>\n",
       "      <th>Model</th>\n",
       "      <th>Train RMSLE</th>\n",
       "      <th>Test RMSLE</th>\n",
       "    </tr>\n",
       "  </thead>\n",
       "  <tbody>\n",
       "    <tr>\n",
       "      <th>0</th>\n",
       "      <td>Benchmark</td>\n",
       "      <td>0.379786</td>\n",
       "      <td>0.419991</td>\n",
       "    </tr>\n",
       "    <tr>\n",
       "      <th>1</th>\n",
       "      <td>Simple Linear</td>\n",
       "      <td>0.293938</td>\n",
       "      <td>0.400638</td>\n",
       "    </tr>\n",
       "    <tr>\n",
       "      <th>2</th>\n",
       "      <td>Multivariate Linear</td>\n",
       "      <td>0.265986</td>\n",
       "      <td>0.372339</td>\n",
       "    </tr>\n",
       "    <tr>\n",
       "      <th>3</th>\n",
       "      <td>Linear with Polynomial</td>\n",
       "      <td>0.161149</td>\n",
       "      <td>0.386175</td>\n",
       "    </tr>\n",
       "    <tr>\n",
       "      <th>4</th>\n",
       "      <td>Linear with Polynomial - Feature Engineered</td>\n",
       "      <td>0.102961</td>\n",
       "      <td>0.312960</td>\n",
       "    </tr>\n",
       "    <tr>\n",
       "      <th>5</th>\n",
       "      <td>Random Forest - Feature Engineered</td>\n",
       "      <td>0.093142</td>\n",
       "      <td>0.255795</td>\n",
       "    </tr>\n",
       "    <tr>\n",
       "      <th>6</th>\n",
       "      <td>GBM - Feature Engineered</td>\n",
       "      <td>0.035540</td>\n",
       "      <td>0.256478</td>\n",
       "    </tr>\n",
       "    <tr>\n",
       "      <th>7</th>\n",
       "      <td>XGBoost - Feature Engineered</td>\n",
       "      <td>0.028150</td>\n",
       "      <td>0.232671</td>\n",
       "    </tr>\n",
       "  </tbody>\n",
       "</table>\n",
       "</div>"
      ],
      "text/plain": [
       "                                         Model  Train RMSLE  Test RMSLE\n",
       "0                                    Benchmark     0.379786    0.419991\n",
       "1                                Simple Linear     0.293938    0.400638\n",
       "2                          Multivariate Linear     0.265986    0.372339\n",
       "3                       Linear with Polynomial     0.161149    0.386175\n",
       "4  Linear with Polynomial - Feature Engineered     0.102961    0.312960\n",
       "5           Random Forest - Feature Engineered     0.093142    0.255795\n",
       "6                     GBM - Feature Engineered     0.035540    0.256478\n",
       "7                 XGBoost - Feature Engineered     0.028150    0.232671"
      ]
     },
     "execution_count": 27,
     "metadata": {},
     "output_type": "execute_result"
    }
   ],
   "source": [
    "new_row_df = pd.DataFrame([[\"XGBoost - Feature Engineered\", train_rmsle_best_xgb, test_rmsle_best_xgb]], columns=results_df.columns)\n",
    "results_df = results_df._append(new_row_df, ignore_index=True)\n",
    "\n",
    "results_df"
   ]
  },
  {
   "cell_type": "markdown",
   "id": "696b2ea5-5b86-4849-af2c-673328435458",
   "metadata": {},
   "source": [
    "**Description:** The Feature Engineered XGBoost Model excels in predictive accuracy, thanks to an optimized setup achieved through GridSearchCV. This optimization refines key parameters, leading to a training RMSLE of 0.028150 and a test RMSLE of 0.232671. The model adeptly handles complex data, with 100 estimators, a max depth of 10, and optimized splitting criteria, underscoring its capability to offer precise property price predictions. Its standout performance demonstrates XGBoost's effectiveness in sophisticated modeling scenarios, making it a prime candidate for high-stakes applications like property valuation."
   ]
  },
  {
   "cell_type": "markdown",
   "id": "a8a85483-59c6-4bc4-8b2b-ed541ce69693",
   "metadata": {},
   "source": [
    "## -- WEB APP LAUNCH DECISION #2 - TEXTUAL --"
   ]
  },
  {
   "cell_type": "markdown",
   "id": "2332d6e6-d8e2-494c-9773-e9ce9a530159",
   "metadata": {},
   "source": [
    "### Decision on Launching the Web App\n",
    "\n",
    "Given the substantial improvements in prediction accuracy, especially with the XGBoost model, launching the web app now seems like a viable option. The model's performance (training RMSLE of 0.028150, test RMSLE of 0.232671) indicates that it can provide users with reliable and accurate property price predictions, which is critical for gaining trust and utility among potential buyers and sellers. \n",
    "\n",
    "However, the decision to launch should also consider user experience, regulatory compliance, data privacy, and the capacity for ongoing model improvement and maintenance. Assuming these considerations are addressed, the high accuracy of the XGBoost model provides a strong foundation for launching the app.\n",
    "\n",
    "### Options for Further Improvement\n",
    "\n",
    "Even with the current high performance, there's always room for improvement. Future efforts could focus on:\n",
    "\n",
    "1. **Data Enrichment**: Incorporating additional relevant features, such as property condition, historical price trends, demographic information, and economic indicators, could improve model performance even further.\n",
    "\n",
    "2. **Advanced Feature Engineering**: Exploring more sophisticated feature engineering techniques, such as encoding categorical variables more effectively, creating interaction terms, or applying dimensionality reduction techniques for a more comprehensive analysis.\n",
    "\n",
    "3. **Model Stacking or Ensembling**: Combining predictions from multiple models, including those not yet tried, through stacking or ensembling techniques might yield better performance than any single model alone.\n",
    "\n",
    "4. **Hyperparameter Tuning**: Continuing to refine the hyperparameters of the XGBoost model and other models might uncover configurations that further reduce RMSLE.\n",
    "\n",
    "5. **Deep Learning Approaches**: Experimenting with deep learning models, especially for capturing non-linear relationships and interactions in large datasets, could offer improvements, particularly if new types of data are incorporated.\n",
    "\n",
    "6. **User Feedback Integration**: Once the app is launched, collecting and incorporating user feedback can provide insights into how predictions are used in real-world decisions and might highlight areas for model improvement.\n",
    "\n",
    "7. **Real-time Data Updates and Model Retraining**: Implementing a system for regularly updating the dataset with new property listings, sales data, and incorporating real-time market trends can help maintain the model's accuracy over time.\n",
    "\n",
    "Launching the web app now, with a clear plan for ongoing improvement and adaptation based on user engagement and market changes, could provide a valuable service while continually enhancing its reliability and accuracy."
   ]
  },
  {
   "cell_type": "markdown",
   "id": "c63d96dd-1563-452f-9939-3e0bce66e3e4",
   "metadata": {},
   "source": [
    "## 8. Rerunning Models on Full Train Set"
   ]
  },
  {
   "cell_type": "markdown",
   "id": "0068bbb2-3f10-4831-b811-b94218b60663",
   "metadata": {},
   "source": [
    "### 8.1 Preparing Data"
   ]
  },
  {
   "cell_type": "code",
   "execution_count": 28,
   "id": "b18a41b2-f369-414a-8882-3cb94b9fe96e",
   "metadata": {
    "tags": []
   },
   "outputs": [
    {
     "name": "stdout",
     "output_type": "stream",
     "text": [
      "Size of original dataset: 414\n",
      "Shape of base features full training set: (389, 6), shape of base features test set: (25, 6)\n",
      "Shape of feature engineered full training set: (389, 6), shape of feature engineered test set: (25, 6)\n"
     ]
    }
   ],
   "source": [
    "# Creating the training set for the base features models\n",
    "real_estate_full = real_estate_data.loc[~real_estate_data.index.isin(X_test.index)]\n",
    "\n",
    "y_train_full = real_estate_full['house_price_of_unit_area']\n",
    "X_train_full = real_estate_full.drop(columns=[\"house_price_of_unit_area\"])\n",
    "\n",
    "# Apply time_calculation and MRT distance log transformation\n",
    "create_time_features(real_estate_full)\n",
    "real_estate_full = get_log_of_mrt_distance(real_estate_full)\n",
    "\n",
    "# Apply the distance calculation and store results in a new column\n",
    "real_estate_full['km_distance_from_cc'] = real_estate_full.apply(lambda row: distance_from_cc(row['latitude'], row['longitude']), axis=1)\n",
    "\n",
    "# Preparing the feature engineered DataFrame by dropping unnecessary columns\n",
    "X_train_full_feature_eng = real_estate_full.drop(columns=['house_price_of_unit_area', 'transaction_date', 'latitude', 'longitude'])\n",
    "\n",
    "# The y_train_full_feature_eng variable will be the same as y_train_full because it's just the target variable and does not change with feature engineering.\n",
    "y_train_full_feature_eng = y_train_full\n",
    "\n",
    "# Checking sample size results\n",
    "print(f'Size of original dataset: {real_estate_data.shape[0]}')\n",
    "print(f'Shape of base features full training set: {X_train_full.shape}, shape of base features test set: {X_test.shape}')\n",
    "print(f'Shape of feature engineered full training set: {X_train_full_feature_eng.shape}, shape of feature engineered test set: {X_test_fe.shape}')"
   ]
  },
  {
   "cell_type": "markdown",
   "id": "bf111133-6d38-45f4-a7e9-8b3aaeed0eed",
   "metadata": {},
   "source": [
    "### 8.2 Rerunning Multivariate Linear Model, Random Forest Model and XGBoost Model"
   ]
  },
  {
   "cell_type": "markdown",
   "id": "4fb9ad85-eb24-44b1-8956-11f6a5fc6516",
   "metadata": {},
   "source": [
    "### 8.2.1 Multivariate Linear Model"
   ]
  },
  {
   "cell_type": "code",
   "execution_count": 29,
   "id": "fd3f7138-52f2-44e0-866c-a256ce6c19f0",
   "metadata": {
    "tags": []
   },
   "outputs": [],
   "source": [
    "# Fit the multivariate model with all available features\n",
    "multivariate_model = LinearRegression()\n",
    "multivariate_model.fit(X_train_full, y_train_full)\n",
    "y_pred_multi_all = multivariate_model.predict(X_test)\n",
    "\n",
    "# Calculate RMSLE for the multivariate model\n",
    "rmsle_multi_train_all = calculateRMSLE(multivariate_model.predict(X_train_full), y_train_full)\n",
    "rmsle_multi_test_all = calculateRMSLE(y_pred_multi_all, y_test)"
   ]
  },
  {
   "cell_type": "code",
   "execution_count": 30,
   "id": "5073d260-cbd9-49d9-8d5e-44cba92dff7e",
   "metadata": {
    "tags": []
   },
   "outputs": [
    {
     "data": {
      "text/html": [
       "<div>\n",
       "<style scoped>\n",
       "    .dataframe tbody tr th:only-of-type {\n",
       "        vertical-align: middle;\n",
       "    }\n",
       "\n",
       "    .dataframe tbody tr th {\n",
       "        vertical-align: top;\n",
       "    }\n",
       "\n",
       "    .dataframe thead th {\n",
       "        text-align: right;\n",
       "    }\n",
       "</style>\n",
       "<table border=\"1\" class=\"dataframe\">\n",
       "  <thead>\n",
       "    <tr style=\"text-align: right;\">\n",
       "      <th></th>\n",
       "      <th>Model</th>\n",
       "      <th>Train RMSLE</th>\n",
       "      <th>Test RMSLE</th>\n",
       "    </tr>\n",
       "  </thead>\n",
       "  <tbody>\n",
       "    <tr>\n",
       "      <th>0</th>\n",
       "      <td>Benchmark</td>\n",
       "      <td>0.379786</td>\n",
       "      <td>0.419991</td>\n",
       "    </tr>\n",
       "    <tr>\n",
       "      <th>1</th>\n",
       "      <td>Simple Linear</td>\n",
       "      <td>0.293938</td>\n",
       "      <td>0.400638</td>\n",
       "    </tr>\n",
       "    <tr>\n",
       "      <th>2</th>\n",
       "      <td>Multivariate Linear</td>\n",
       "      <td>0.265986</td>\n",
       "      <td>0.372339</td>\n",
       "    </tr>\n",
       "    <tr>\n",
       "      <th>3</th>\n",
       "      <td>Linear with Polynomial</td>\n",
       "      <td>0.161149</td>\n",
       "      <td>0.386175</td>\n",
       "    </tr>\n",
       "    <tr>\n",
       "      <th>4</th>\n",
       "      <td>Linear with Polynomial - Feature Engineered</td>\n",
       "      <td>0.102961</td>\n",
       "      <td>0.312960</td>\n",
       "    </tr>\n",
       "    <tr>\n",
       "      <th>5</th>\n",
       "      <td>Random Forest - Feature Engineered</td>\n",
       "      <td>0.093142</td>\n",
       "      <td>0.255795</td>\n",
       "    </tr>\n",
       "    <tr>\n",
       "      <th>6</th>\n",
       "      <td>GBM - Feature Engineered</td>\n",
       "      <td>0.035540</td>\n",
       "      <td>0.256478</td>\n",
       "    </tr>\n",
       "    <tr>\n",
       "      <th>7</th>\n",
       "      <td>XGBoost - Feature Engineered</td>\n",
       "      <td>0.028150</td>\n",
       "      <td>0.232671</td>\n",
       "    </tr>\n",
       "    <tr>\n",
       "      <th>8</th>\n",
       "      <td>Multivariate Linear - Feature Engineered - FULL</td>\n",
       "      <td>0.242426</td>\n",
       "      <td>0.418495</td>\n",
       "    </tr>\n",
       "  </tbody>\n",
       "</table>\n",
       "</div>"
      ],
      "text/plain": [
       "                                             Model  Train RMSLE  Test RMSLE\n",
       "0                                        Benchmark     0.379786    0.419991\n",
       "1                                    Simple Linear     0.293938    0.400638\n",
       "2                              Multivariate Linear     0.265986    0.372339\n",
       "3                           Linear with Polynomial     0.161149    0.386175\n",
       "4      Linear with Polynomial - Feature Engineered     0.102961    0.312960\n",
       "5               Random Forest - Feature Engineered     0.093142    0.255795\n",
       "6                         GBM - Feature Engineered     0.035540    0.256478\n",
       "7                     XGBoost - Feature Engineered     0.028150    0.232671\n",
       "8  Multivariate Linear - Feature Engineered - FULL     0.242426    0.418495"
      ]
     },
     "execution_count": 30,
     "metadata": {},
     "output_type": "execute_result"
    }
   ],
   "source": [
    "new_row_df = pd.DataFrame([[\"Multivariate Linear - Feature Engineered - FULL\", rmsle_multi_train_all, rmsle_multi_test_all]], columns=results_df.columns)\n",
    "results_df = results_df._append(new_row_df, ignore_index=True)\n",
    "\n",
    "results_df"
   ]
  },
  {
   "cell_type": "markdown",
   "id": "a00efe7f-62e3-4344-86ea-8d337998642b",
   "metadata": {},
   "source": [
    "### 8.2.2 Random Forest Model"
   ]
  },
  {
   "cell_type": "code",
   "execution_count": 31,
   "id": "e43eab55-e1b4-4a7e-93cd-0db49b7f0cc1",
   "metadata": {
    "tags": []
   },
   "outputs": [
    {
     "name": "stdout",
     "output_type": "stream",
     "text": [
      "Fitting 3 folds for each of 81 candidates, totalling 243 fits\n"
     ]
    },
    {
     "data": {
      "text/plain": [
       "{'max_depth': 10,\n",
       " 'min_samples_leaf': 1,\n",
       " 'min_samples_split': 5,\n",
       " 'n_estimators': 150}"
      ]
     },
     "execution_count": 31,
     "metadata": {},
     "output_type": "execute_result"
    }
   ],
   "source": [
    "# Define the Random Forest model\n",
    "rf_model = RandomForestRegressor(random_state=prng)\n",
    "\n",
    "# Set up the parameter grid for hyperparameter optimization\n",
    "param_grid = {\n",
    "    'n_estimators': [50, 100, 150],  # Number of trees in the forest\n",
    "    'max_depth': [10, 20, 30],  # Maximum depth of the tree\n",
    "    'min_samples_split': [2, 5, 10],  # Minimum number of samples required to split an internal node\n",
    "    'min_samples_leaf': [1, 2, 4]  # Minimum number of samples required to be at a leaf node\n",
    "}\n",
    "\n",
    "# Set up GridSearchCV\n",
    "grid_search = GridSearchCV(estimator=rf_model, param_grid=param_grid, cv=3, n_jobs=-1, verbose=2, scoring='neg_mean_squared_error')\n",
    "\n",
    "# Fit the model using GridSearchCV\n",
    "grid_search.fit(X_train_full_feature_eng, y_train_full_feature_eng)\n",
    "\n",
    "# Retrieve the best model\n",
    "best_rf_model = grid_search.best_estimator_\n",
    "\n",
    "# Predict and evaluate using RMSLE for the best model\n",
    "y_pred_train_best_rf_all = best_rf_model.predict(X_train_full_feature_eng)\n",
    "y_pred_test_best_rf_all = best_rf_model.predict(X_test_fe)\n",
    "\n",
    "# Correcting the call to calculateRMSLE\n",
    "train_rmsle_best_rf_all = calculateRMSLE(y_train_full_feature_eng, y_pred_train_best_rf_all)\n",
    "test_rmsle_best_rf_all = calculateRMSLE(y_test_fe, y_pred_test_best_rf_all)\n",
    "\n",
    "best_params = grid_search.best_params_\n",
    "\n",
    "best_params"
   ]
  },
  {
   "cell_type": "code",
   "execution_count": 32,
   "id": "7a304f45-83fb-42d5-a9ca-5949f2480c5d",
   "metadata": {
    "tags": []
   },
   "outputs": [
    {
     "data": {
      "text/html": [
       "<div>\n",
       "<style scoped>\n",
       "    .dataframe tbody tr th:only-of-type {\n",
       "        vertical-align: middle;\n",
       "    }\n",
       "\n",
       "    .dataframe tbody tr th {\n",
       "        vertical-align: top;\n",
       "    }\n",
       "\n",
       "    .dataframe thead th {\n",
       "        text-align: right;\n",
       "    }\n",
       "</style>\n",
       "<table border=\"1\" class=\"dataframe\">\n",
       "  <thead>\n",
       "    <tr style=\"text-align: right;\">\n",
       "      <th></th>\n",
       "      <th>Model</th>\n",
       "      <th>Train RMSLE</th>\n",
       "      <th>Test RMSLE</th>\n",
       "    </tr>\n",
       "  </thead>\n",
       "  <tbody>\n",
       "    <tr>\n",
       "      <th>0</th>\n",
       "      <td>Benchmark</td>\n",
       "      <td>0.379786</td>\n",
       "      <td>0.419991</td>\n",
       "    </tr>\n",
       "    <tr>\n",
       "      <th>1</th>\n",
       "      <td>Simple Linear</td>\n",
       "      <td>0.293938</td>\n",
       "      <td>0.400638</td>\n",
       "    </tr>\n",
       "    <tr>\n",
       "      <th>2</th>\n",
       "      <td>Multivariate Linear</td>\n",
       "      <td>0.265986</td>\n",
       "      <td>0.372339</td>\n",
       "    </tr>\n",
       "    <tr>\n",
       "      <th>3</th>\n",
       "      <td>Linear with Polynomial</td>\n",
       "      <td>0.161149</td>\n",
       "      <td>0.386175</td>\n",
       "    </tr>\n",
       "    <tr>\n",
       "      <th>4</th>\n",
       "      <td>Linear with Polynomial - Feature Engineered</td>\n",
       "      <td>0.102961</td>\n",
       "      <td>0.312960</td>\n",
       "    </tr>\n",
       "    <tr>\n",
       "      <th>5</th>\n",
       "      <td>Random Forest - Feature Engineered</td>\n",
       "      <td>0.093142</td>\n",
       "      <td>0.255795</td>\n",
       "    </tr>\n",
       "    <tr>\n",
       "      <th>6</th>\n",
       "      <td>GBM - Feature Engineered</td>\n",
       "      <td>0.035540</td>\n",
       "      <td>0.256478</td>\n",
       "    </tr>\n",
       "    <tr>\n",
       "      <th>7</th>\n",
       "      <td>XGBoost - Feature Engineered</td>\n",
       "      <td>0.028150</td>\n",
       "      <td>0.232671</td>\n",
       "    </tr>\n",
       "    <tr>\n",
       "      <th>8</th>\n",
       "      <td>Multivariate Linear - Feature Engineered - FULL</td>\n",
       "      <td>0.242426</td>\n",
       "      <td>0.418495</td>\n",
       "    </tr>\n",
       "    <tr>\n",
       "      <th>9</th>\n",
       "      <td>Random Forest Model - Feature Engineered - FULL</td>\n",
       "      <td>0.099724</td>\n",
       "      <td>0.149109</td>\n",
       "    </tr>\n",
       "  </tbody>\n",
       "</table>\n",
       "</div>"
      ],
      "text/plain": [
       "                                             Model  Train RMSLE  Test RMSLE\n",
       "0                                        Benchmark     0.379786    0.419991\n",
       "1                                    Simple Linear     0.293938    0.400638\n",
       "2                              Multivariate Linear     0.265986    0.372339\n",
       "3                           Linear with Polynomial     0.161149    0.386175\n",
       "4      Linear with Polynomial - Feature Engineered     0.102961    0.312960\n",
       "5               Random Forest - Feature Engineered     0.093142    0.255795\n",
       "6                         GBM - Feature Engineered     0.035540    0.256478\n",
       "7                     XGBoost - Feature Engineered     0.028150    0.232671\n",
       "8  Multivariate Linear - Feature Engineered - FULL     0.242426    0.418495\n",
       "9  Random Forest Model - Feature Engineered - FULL     0.099724    0.149109"
      ]
     },
     "execution_count": 32,
     "metadata": {},
     "output_type": "execute_result"
    }
   ],
   "source": [
    "new_row_df = pd.DataFrame([[\"Random Forest Model - Feature Engineered - FULL\", train_rmsle_best_rf_all, test_rmsle_best_rf_all]], columns=results_df.columns)\n",
    "results_df = results_df._append(new_row_df, ignore_index=True)\n",
    "\n",
    "results_df"
   ]
  },
  {
   "cell_type": "markdown",
   "id": "2a1c45d1-b828-4201-8a0c-56def577ba8f",
   "metadata": {},
   "source": [
    "### 8.2.3 XGBoost Model"
   ]
  },
  {
   "cell_type": "code",
   "execution_count": 33,
   "id": "2213b30c-16ba-47bf-a3f7-978f30e24053",
   "metadata": {
    "tags": []
   },
   "outputs": [
    {
     "name": "stdout",
     "output_type": "stream",
     "text": [
      "Fitting 3 folds for each of 54 candidates, totalling 162 fits\n"
     ]
    },
    {
     "data": {
      "text/plain": [
       "{'max_depth': 10,\n",
       " 'min_samples_leaf': 1,\n",
       " 'min_samples_split': 5,\n",
       " 'n_estimators': 150}"
      ]
     },
     "execution_count": 33,
     "metadata": {},
     "output_type": "execute_result"
    }
   ],
   "source": [
    "# Define the XGBoost model\n",
    "xgb_model = XGBRegressor(enable_categorical=True, random_state=prng)\n",
    "\n",
    "# Set up the parameter grid for hyperparameter optimization\n",
    "xgb_param_grid = {\n",
    "    'n_estimators': [50, 100, 150],\n",
    "    'max_depth': [10, 20, 30],\n",
    "    'learning_rate': [0.01, 0.1, 0.2],  # Similar to 'eta'\n",
    "    'subsample': [0.8, 1]  # Subsample ratio of the training instances\n",
    "}\n",
    "\n",
    "# Set up GridSearchCV for XGBoost\n",
    "xgb_grid_search = GridSearchCV(estimator=xgb_model, param_grid=xgb_param_grid, cv=3, n_jobs=-1, verbose=2, scoring='neg_mean_squared_error')\n",
    "\n",
    "# Fit the model using GridSearchCV\n",
    "xgb_grid_search.fit(X_train_full_feature_eng, y_train_full_feature_eng)\n",
    "\n",
    "# Retrieve the best XGBoost model\n",
    "best_xgb_model = xgb_grid_search.best_estimator_\n",
    "\n",
    "\n",
    "# Predict and evaluate using RMSLE for the best model\n",
    "y_pred_train_best_xgb_all = best_xgb_model.predict(X_train_full_feature_eng)\n",
    "y_pred_test_best_xgb_all = best_xgb_model.predict(X_test_fe)\n",
    "\n",
    "# Calculate RMSLE for the XGBoost model using the corrected prediction\n",
    "train_rmsle_best_xgb_all = calculateRMSLE(y_train_full_feature_eng, y_pred_train_best_xgb_all)\n",
    "test_rmsle_best_xgb_all = calculateRMSLE(y_test_fe, y_pred_test_best_xgb_all)\n",
    "\n",
    "best_params = grid_search.best_params_\n",
    "\n",
    "best_params"
   ]
  },
  {
   "cell_type": "code",
   "execution_count": 34,
   "id": "de8c8aa4-9427-4613-8151-a56fb5e1c5f9",
   "metadata": {
    "tags": []
   },
   "outputs": [
    {
     "data": {
      "text/html": [
       "<div>\n",
       "<style scoped>\n",
       "    .dataframe tbody tr th:only-of-type {\n",
       "        vertical-align: middle;\n",
       "    }\n",
       "\n",
       "    .dataframe tbody tr th {\n",
       "        vertical-align: top;\n",
       "    }\n",
       "\n",
       "    .dataframe thead th {\n",
       "        text-align: right;\n",
       "    }\n",
       "</style>\n",
       "<table border=\"1\" class=\"dataframe\">\n",
       "  <thead>\n",
       "    <tr style=\"text-align: right;\">\n",
       "      <th></th>\n",
       "      <th>Model</th>\n",
       "      <th>Train RMSLE</th>\n",
       "      <th>Test RMSLE</th>\n",
       "    </tr>\n",
       "  </thead>\n",
       "  <tbody>\n",
       "    <tr>\n",
       "      <th>0</th>\n",
       "      <td>Benchmark</td>\n",
       "      <td>0.379786</td>\n",
       "      <td>0.419991</td>\n",
       "    </tr>\n",
       "    <tr>\n",
       "      <th>1</th>\n",
       "      <td>Simple Linear</td>\n",
       "      <td>0.293938</td>\n",
       "      <td>0.400638</td>\n",
       "    </tr>\n",
       "    <tr>\n",
       "      <th>2</th>\n",
       "      <td>Multivariate Linear</td>\n",
       "      <td>0.265986</td>\n",
       "      <td>0.372339</td>\n",
       "    </tr>\n",
       "    <tr>\n",
       "      <th>3</th>\n",
       "      <td>Linear with Polynomial</td>\n",
       "      <td>0.161149</td>\n",
       "      <td>0.386175</td>\n",
       "    </tr>\n",
       "    <tr>\n",
       "      <th>4</th>\n",
       "      <td>Linear with Polynomial - Feature Engineered</td>\n",
       "      <td>0.102961</td>\n",
       "      <td>0.312960</td>\n",
       "    </tr>\n",
       "    <tr>\n",
       "      <th>5</th>\n",
       "      <td>Random Forest - Feature Engineered</td>\n",
       "      <td>0.093142</td>\n",
       "      <td>0.255795</td>\n",
       "    </tr>\n",
       "    <tr>\n",
       "      <th>6</th>\n",
       "      <td>GBM - Feature Engineered</td>\n",
       "      <td>0.035540</td>\n",
       "      <td>0.256478</td>\n",
       "    </tr>\n",
       "    <tr>\n",
       "      <th>7</th>\n",
       "      <td>XGBoost - Feature Engineered</td>\n",
       "      <td>0.028150</td>\n",
       "      <td>0.232671</td>\n",
       "    </tr>\n",
       "    <tr>\n",
       "      <th>8</th>\n",
       "      <td>Multivariate Linear - Feature Engineered - FULL</td>\n",
       "      <td>0.242426</td>\n",
       "      <td>0.418495</td>\n",
       "    </tr>\n",
       "    <tr>\n",
       "      <th>9</th>\n",
       "      <td>Random Forest Model - Feature Engineered - FULL</td>\n",
       "      <td>0.099724</td>\n",
       "      <td>0.149109</td>\n",
       "    </tr>\n",
       "    <tr>\n",
       "      <th>10</th>\n",
       "      <td>XGBoost - Feature Engineered - FULL</td>\n",
       "      <td>0.036459</td>\n",
       "      <td>0.093173</td>\n",
       "    </tr>\n",
       "  </tbody>\n",
       "</table>\n",
       "</div>"
      ],
      "text/plain": [
       "                                              Model  Train RMSLE  Test RMSLE\n",
       "0                                         Benchmark     0.379786    0.419991\n",
       "1                                     Simple Linear     0.293938    0.400638\n",
       "2                               Multivariate Linear     0.265986    0.372339\n",
       "3                            Linear with Polynomial     0.161149    0.386175\n",
       "4       Linear with Polynomial - Feature Engineered     0.102961    0.312960\n",
       "5                Random Forest - Feature Engineered     0.093142    0.255795\n",
       "6                          GBM - Feature Engineered     0.035540    0.256478\n",
       "7                      XGBoost - Feature Engineered     0.028150    0.232671\n",
       "8   Multivariate Linear - Feature Engineered - FULL     0.242426    0.418495\n",
       "9   Random Forest Model - Feature Engineered - FULL     0.099724    0.149109\n",
       "10              XGBoost - Feature Engineered - FULL     0.036459    0.093173"
      ]
     },
     "execution_count": 34,
     "metadata": {},
     "output_type": "execute_result"
    }
   ],
   "source": [
    "new_row_df = pd.DataFrame([[\"XGBoost - Feature Engineered - FULL\", train_rmsle_best_xgb_all, test_rmsle_best_xgb_all]], columns=results_df.columns)\n",
    "results_df = results_df._append(new_row_df, ignore_index=True)\n",
    "\n",
    "results_df"
   ]
  },
  {
   "cell_type": "markdown",
   "id": "fde42a65-d8a5-4191-af1f-2e27bd0de2cd",
   "metadata": {},
   "source": [
    "## -- WEB APP LAUNCH DECISION #3 - TEXTUAL --"
   ]
  },
  {
   "cell_type": "markdown",
   "id": "91c6f8db-f736-4936-a066-da082505ef67",
   "metadata": {},
   "source": [
    "- **Multivariate Linear - Feature Engineered - FULL**: The training RMSLE slightly decreased from 0.265986 to 0.242426, indicating a modest improvement in fitting the training data. However, the test RMSLE increased from 0.372339 to 0.418495, suggesting that the model might have become slightly overfitted to the training data, thereby reducing its generalization capability on unseen data.\n",
    "\n",
    "- **Random Forest - Feature Engineered - FULL**: This model showed significant improvement, with the training RMSLE decreasing from 0.093142 to 0.099724, which suggests a very minor decrease in training performance. However, the test RMSLE dramatically decreased from 0.255795 to 0.149109, indicating a substantial improvement in the model's predictive power on unseen data.\n",
    "\n",
    "- **XGBoost - Feature Engineered - FULL**: Like the Random Forest model, the XGBoost model showed significant improvement, with the training RMSLE improving from 0.028150 to 0.036459. This change suggests a slight decrease in how well the model fits the training data, but the test RMSLE decreased from 0.232671 to 0.093173, showcasing a major improvement in generalization and predictive accuracy on the test set.\n",
    "\n",
    "### Observations\n",
    "\n",
    "The biggest improvement in predictive power was observed in the **XGBoost - Feature Engineered - FULL** model, as evidenced by the substantial decrease in test RMSLE from 0.232671 to 0.093173. This improvement indicates a significantly enhanced ability of the model to generalize to unseen data, which is crucial for a web app aiming to provide accurate property price predictions.\n",
    "\n",
    "### Decision on Web App Launch\n",
    "\n",
    "Given the observed improvements, especially with the XGBoost model, it seems reasonable to consider launching the web app now. The enhanced predictive power of the XGBoost model provides a strong foundation for offering accurate and reliable property price predictions, which would likely be highly valued by users. The decrease in test RMSLE for the feature-engineered models, particularly the XGBoost model, suggests that the models are now better equipped to handle diverse real-world data, making them a solid basis for the web app's valuation service.\n",
    "\n",
    "However, it's essential to keep in mind that continuous monitoring, updating of the models with new data, and further refinement based on user feedback will be crucial to maintain and improve the app's accuracy and user satisfaction over time. Additionally, ensuring a user-friendly interface, clear communication of the model's limitations, and providing users with context around the predictions will be important factors in the successful adoption and use of the web app."
   ]
  },
  {
   "cell_type": "code",
   "execution_count": null,
   "id": "d4df67a0-8995-4f55-8f26-7564ed71bd3c",
   "metadata": {},
   "outputs": [],
   "source": []
  }
 ],
 "metadata": {
  "kernelspec": {
   "display_name": "Python 3 (ipykernel)",
   "language": "python",
   "name": "python3"
  },
  "language_info": {
   "codemirror_mode": {
    "name": "ipython",
    "version": 3
   },
   "file_extension": ".py",
   "mimetype": "text/x-python",
   "name": "python",
   "nbconvert_exporter": "python",
   "pygments_lexer": "ipython3",
   "version": "3.11.4"
  }
 },
 "nbformat": 4,
 "nbformat_minor": 5
}
